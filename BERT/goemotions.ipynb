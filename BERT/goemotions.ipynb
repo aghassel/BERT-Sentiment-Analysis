{
 "cells": [
  {
   "cell_type": "markdown",
   "metadata": {},
   "source": [
    "GPU Server Specs"
   ]
  },
  {
   "cell_type": "code",
   "execution_count": 112,
   "metadata": {},
   "outputs": [
    {
     "name": "stdout",
     "output_type": "stream",
     "text": [
      "Sun Nov 26 18:32:05 2023       \n",
      "+-----------------------------------------------------------------------------+\n",
      "| NVIDIA-SMI 525.147.05   Driver Version: 525.147.05   CUDA Version: 12.0     |\n",
      "|-------------------------------+----------------------+----------------------+\n",
      "| GPU  Name        Persistence-M| Bus-Id        Disp.A | Volatile Uncorr. ECC |\n",
      "| Fan  Temp  Perf  Pwr:Usage/Cap|         Memory-Usage | GPU-Util  Compute M. |\n",
      "|                               |                      |               MIG M. |\n",
      "|===============================+======================+======================|\n",
      "|   0  NVIDIA GeForce ...  Off  | 00000000:09:00.0 Off |                  N/A |\n",
      "|  0%   28C    P8    22W / 350W |   6189MiB / 24576MiB |      0%      Default |\n",
      "|                               |                      |                  N/A |\n",
      "+-------------------------------+----------------------+----------------------+\n",
      "|   1  NVIDIA GeForce ...  Off  | 00000000:41:00.0 Off |                  N/A |\n",
      "|  0%   29C    P8    25W / 350W |    201MiB / 24576MiB |      0%      Default |\n",
      "|                               |                      |                  N/A |\n",
      "+-------------------------------+----------------------+----------------------+\n",
      "                                                                               \n",
      "+-----------------------------------------------------------------------------+\n",
      "| Processes:                                                                  |\n",
      "|  GPU   GI   CI        PID   Type   Process name                  GPU Memory |\n",
      "|        ID   ID                                                   Usage      |\n",
      "|=============================================================================|\n",
      "|    0   N/A  N/A      1864      G   /usr/lib/xorg/Xorg                  4MiB |\n",
      "|    0   N/A  N/A      2437      G   /usr/lib/xorg/Xorg                  4MiB |\n",
      "|    0   N/A  N/A    199623      C   ...e/19aag9/ENTER/bin/python     6176MiB |\n",
      "|    1   N/A  N/A      1864      G   /usr/lib/xorg/Xorg                 56MiB |\n",
      "|    1   N/A  N/A      2062      G   /usr/bin/gnome-shell               14MiB |\n",
      "|    1   N/A  N/A      2437      G   /usr/lib/xorg/Xorg                 35MiB |\n",
      "+-----------------------------------------------------------------------------+\n"
     ]
    }
   ],
   "source": [
    "!nvidia-smi"
   ]
  },
  {
   "cell_type": "code",
   "execution_count": 113,
   "metadata": {},
   "outputs": [],
   "source": [
    "import numpy as np\n",
    "import pandas as pd\n",
    "import seaborn as sns\n",
    "import matplotlib.pyplot as plt\n",
    "import torch\n",
    "import torch.nn as nn\n",
    "import torch.nn.functional as F\n",
    "%matplotlib inline\n",
    "sns.set(color_codes=True)\n",
    "\n",
    "from transformers import BertTokenizer,BertForSequenceClassification,AdamW"
   ]
  },
  {
   "cell_type": "markdown",
   "metadata": {},
   "source": [
    "Data Loading and Preprocessing"
   ]
  },
  {
   "cell_type": "code",
   "execution_count": 114,
   "metadata": {},
   "outputs": [],
   "source": [
    "file_paths = ['data/goemotions_1.csv', 'data/goemotions_2.csv', 'data/goemotions_3.csv']\n",
    "\n",
    "df_list = [pd.read_csv(file) for file in file_paths]\n",
    "df = pd.concat(df_list, ignore_index=True)\n",
    "\n",
    "emotion_labels = ['admiration', 'amusement', 'anger', 'annoyance', 'approval', 'caring', \n",
    "                  'confusion', 'curiosity', 'desire', 'disappointment', 'disapproval', \n",
    "                  'disgust', 'embarrassment', 'excitement', 'fear', 'gratitude', 'grief', \n",
    "                  'joy', 'love', 'nervousness', 'optimism', 'pride', 'realization', \n",
    "                  'relief', 'remorse', 'sadness', 'surprise', 'neutral']\n",
    "df = df[['text'] + emotion_labels]"
   ]
  },
  {
   "cell_type": "markdown",
   "metadata": {},
   "source": [
    "Dataset Size"
   ]
  },
  {
   "cell_type": "code",
   "execution_count": 115,
   "metadata": {},
   "outputs": [
    {
     "name": "stdout",
     "output_type": "stream",
     "text": [
      "Number of Reddit Samples:  211225\n"
     ]
    }
   ],
   "source": [
    "print(f'Number of Reddit Samples: ',len(df))"
   ]
  },
  {
   "cell_type": "code",
   "execution_count": 116,
   "metadata": {},
   "outputs": [
    {
     "data": {
      "text/html": [
       "<div>\n",
       "<style scoped>\n",
       "    .dataframe tbody tr th:only-of-type {\n",
       "        vertical-align: middle;\n",
       "    }\n",
       "\n",
       "    .dataframe tbody tr th {\n",
       "        vertical-align: top;\n",
       "    }\n",
       "\n",
       "    .dataframe thead th {\n",
       "        text-align: right;\n",
       "    }\n",
       "</style>\n",
       "<table border=\"1\" class=\"dataframe\">\n",
       "  <thead>\n",
       "    <tr style=\"text-align: right;\">\n",
       "      <th></th>\n",
       "      <th>text</th>\n",
       "      <th>admiration</th>\n",
       "      <th>amusement</th>\n",
       "      <th>anger</th>\n",
       "      <th>annoyance</th>\n",
       "      <th>approval</th>\n",
       "      <th>caring</th>\n",
       "      <th>confusion</th>\n",
       "      <th>curiosity</th>\n",
       "      <th>desire</th>\n",
       "      <th>...</th>\n",
       "      <th>love</th>\n",
       "      <th>nervousness</th>\n",
       "      <th>optimism</th>\n",
       "      <th>pride</th>\n",
       "      <th>realization</th>\n",
       "      <th>relief</th>\n",
       "      <th>remorse</th>\n",
       "      <th>sadness</th>\n",
       "      <th>surprise</th>\n",
       "      <th>neutral</th>\n",
       "    </tr>\n",
       "  </thead>\n",
       "  <tbody>\n",
       "    <tr>\n",
       "      <th>0</th>\n",
       "      <td>That game hurt.</td>\n",
       "      <td>0</td>\n",
       "      <td>0</td>\n",
       "      <td>0</td>\n",
       "      <td>0</td>\n",
       "      <td>0</td>\n",
       "      <td>0</td>\n",
       "      <td>0</td>\n",
       "      <td>0</td>\n",
       "      <td>0</td>\n",
       "      <td>...</td>\n",
       "      <td>0</td>\n",
       "      <td>0</td>\n",
       "      <td>0</td>\n",
       "      <td>0</td>\n",
       "      <td>0</td>\n",
       "      <td>0</td>\n",
       "      <td>0</td>\n",
       "      <td>1</td>\n",
       "      <td>0</td>\n",
       "      <td>0</td>\n",
       "    </tr>\n",
       "    <tr>\n",
       "      <th>1</th>\n",
       "      <td>&gt;sexuality shouldn’t be a grouping category I...</td>\n",
       "      <td>0</td>\n",
       "      <td>0</td>\n",
       "      <td>0</td>\n",
       "      <td>0</td>\n",
       "      <td>0</td>\n",
       "      <td>0</td>\n",
       "      <td>0</td>\n",
       "      <td>0</td>\n",
       "      <td>0</td>\n",
       "      <td>...</td>\n",
       "      <td>0</td>\n",
       "      <td>0</td>\n",
       "      <td>0</td>\n",
       "      <td>0</td>\n",
       "      <td>0</td>\n",
       "      <td>0</td>\n",
       "      <td>0</td>\n",
       "      <td>0</td>\n",
       "      <td>0</td>\n",
       "      <td>0</td>\n",
       "    </tr>\n",
       "    <tr>\n",
       "      <th>2</th>\n",
       "      <td>You do right, if you don't care then fuck 'em!</td>\n",
       "      <td>0</td>\n",
       "      <td>0</td>\n",
       "      <td>0</td>\n",
       "      <td>0</td>\n",
       "      <td>0</td>\n",
       "      <td>0</td>\n",
       "      <td>0</td>\n",
       "      <td>0</td>\n",
       "      <td>0</td>\n",
       "      <td>...</td>\n",
       "      <td>0</td>\n",
       "      <td>0</td>\n",
       "      <td>0</td>\n",
       "      <td>0</td>\n",
       "      <td>0</td>\n",
       "      <td>0</td>\n",
       "      <td>0</td>\n",
       "      <td>0</td>\n",
       "      <td>0</td>\n",
       "      <td>1</td>\n",
       "    </tr>\n",
       "    <tr>\n",
       "      <th>3</th>\n",
       "      <td>Man I love reddit.</td>\n",
       "      <td>0</td>\n",
       "      <td>0</td>\n",
       "      <td>0</td>\n",
       "      <td>0</td>\n",
       "      <td>0</td>\n",
       "      <td>0</td>\n",
       "      <td>0</td>\n",
       "      <td>0</td>\n",
       "      <td>0</td>\n",
       "      <td>...</td>\n",
       "      <td>1</td>\n",
       "      <td>0</td>\n",
       "      <td>0</td>\n",
       "      <td>0</td>\n",
       "      <td>0</td>\n",
       "      <td>0</td>\n",
       "      <td>0</td>\n",
       "      <td>0</td>\n",
       "      <td>0</td>\n",
       "      <td>0</td>\n",
       "    </tr>\n",
       "    <tr>\n",
       "      <th>4</th>\n",
       "      <td>[NAME] was nowhere near them, he was by the Fa...</td>\n",
       "      <td>0</td>\n",
       "      <td>0</td>\n",
       "      <td>0</td>\n",
       "      <td>0</td>\n",
       "      <td>0</td>\n",
       "      <td>0</td>\n",
       "      <td>0</td>\n",
       "      <td>0</td>\n",
       "      <td>0</td>\n",
       "      <td>...</td>\n",
       "      <td>0</td>\n",
       "      <td>0</td>\n",
       "      <td>0</td>\n",
       "      <td>0</td>\n",
       "      <td>0</td>\n",
       "      <td>0</td>\n",
       "      <td>0</td>\n",
       "      <td>0</td>\n",
       "      <td>0</td>\n",
       "      <td>1</td>\n",
       "    </tr>\n",
       "  </tbody>\n",
       "</table>\n",
       "<p>5 rows × 29 columns</p>\n",
       "</div>"
      ],
      "text/plain": [
       "                                                text  admiration  amusement  \\\n",
       "0                                    That game hurt.           0          0   \n",
       "1   >sexuality shouldn’t be a grouping category I...           0          0   \n",
       "2     You do right, if you don't care then fuck 'em!           0          0   \n",
       "3                                 Man I love reddit.           0          0   \n",
       "4  [NAME] was nowhere near them, he was by the Fa...           0          0   \n",
       "\n",
       "   anger  annoyance  approval  caring  confusion  curiosity  desire  ...  \\\n",
       "0      0          0         0       0          0          0       0  ...   \n",
       "1      0          0         0       0          0          0       0  ...   \n",
       "2      0          0         0       0          0          0       0  ...   \n",
       "3      0          0         0       0          0          0       0  ...   \n",
       "4      0          0         0       0          0          0       0  ...   \n",
       "\n",
       "   love  nervousness  optimism  pride  realization  relief  remorse  sadness  \\\n",
       "0     0            0         0      0            0       0        0        1   \n",
       "1     0            0         0      0            0       0        0        0   \n",
       "2     0            0         0      0            0       0        0        0   \n",
       "3     1            0         0      0            0       0        0        0   \n",
       "4     0            0         0      0            0       0        0        0   \n",
       "\n",
       "   surprise  neutral  \n",
       "0         0        0  \n",
       "1         0        0  \n",
       "2         0        1  \n",
       "3         0        0  \n",
       "4         0        1  \n",
       "\n",
       "[5 rows x 29 columns]"
      ]
     },
     "execution_count": 116,
     "metadata": {},
     "output_type": "execute_result"
    }
   ],
   "source": [
    "df.head()"
   ]
  },
  {
   "cell_type": "markdown",
   "metadata": {},
   "source": [
    "Data Processing II"
   ]
  },
  {
   "cell_type": "code",
   "execution_count": 117,
   "metadata": {},
   "outputs": [],
   "source": [
    "import re\n",
    "\n",
    "hashtags = re.compile(r\"^#\\S+|\\s#\\S+\")\n",
    "mentions = re.compile(r\"^@\\S+|\\s@\\S+\")\n",
    "urls = re.compile(r\"https?://\\S+\")\n",
    "\n",
    "def process_text(text):\n",
    "    text = re.sub(r'http\\S+', '', text)\n",
    "    text = hashtags.sub(' hashtag', text)\n",
    "    text = mentions.sub(' entity', text)\n",
    "    return text.strip().lower()\n",
    "\n",
    "df['text'] = df.text.apply(process_text)"
   ]
  },
  {
   "cell_type": "markdown",
   "metadata": {},
   "source": [
    "Emotion Distribution Visualization"
   ]
  },
  {
   "cell_type": "code",
   "execution_count": 118,
   "metadata": {},
   "outputs": [
    {
     "data": {
      "image/png": "[encoded data removed]",
      "text/plain": [
       "<Figure size 1500x800 with 1 Axes>"
      ]
     },
     "metadata": {},
     "output_type": "display_data"
    }
   ],
   "source": [
    "emotion_counts = df[emotion_labels].sum()\n",
    "sorted_emotion_counts = emotion_counts.sort_values(ascending=False)\n",
    "\n",
    "plt.figure(figsize=(15, 8))\n",
    "sorted_emotion_counts.plot(kind='bar')\n",
    "plt.title('Distribution of Emotions in the GoEmotions Dataset')\n",
    "plt.xlabel('Emotions')\n",
    "plt.ylabel('Frequency')\n",
    "plt.xticks(rotation=45)\n",
    "plt.show()"
   ]
  },
  {
   "cell_type": "markdown",
   "metadata": {},
   "source": [
    "Tokenization and Input Formatting"
   ]
  },
  {
   "cell_type": "code",
   "execution_count": 119,
   "metadata": {},
   "outputs": [
    {
     "name": "stderr",
     "output_type": "stream",
     "text": [
      "Truncation was not explicitly activated but `max_length` is provided a specific value, please use `truncation=True` to explicitly truncate examples to max length. Defaulting to 'longest_first' truncation strategy. If you encode pairs of sequences (GLUE-style) with the tokenizer you can select this strategy more precisely by providing a specific strategy to `truncation`.\n"
     ]
    },
    {
     "name": "stderr",
     "output_type": "stream",
     "text": [
      "/home/19aag9/ENTER/lib/python3.11/site-packages/transformers/tokenization_utils_base.py:2418: FutureWarning: The `pad_to_max_length` argument is deprecated and will be removed in a future version, use `padding=True` or `padding='longest'` to pad to the longest sequence in the batch, or use `padding='max_length'` to pad to a max length. In this case, you can give a specific length with `max_length` (e.g. `max_length=45`) or leave max_length to None to pad to the maximal input size of the model (e.g. 512 for Bert).\n",
      "  warnings.warn(\n"
     ]
    }
   ],
   "source": [
    "tokenizer = BertTokenizer.from_pretrained('bert-base-uncased', do_lower_case=True)\n",
    "labels = df[emotion_labels].values\n",
    "texts = df.text.values\n",
    "\n",
    "input_ids = []\n",
    "attention_masks = []\n",
    "\n",
    "for text in texts:\n",
    "    encoded_data = tokenizer.encode_plus(\n",
    "        text,\n",
    "        add_special_tokens=True,\n",
    "        max_length=128,\n",
    "        pad_to_max_length=True,\n",
    "        return_attention_mask=True,\n",
    "        return_tensors='pt'\n",
    "    )\n",
    "    input_ids.append(encoded_data['input_ids'])\n",
    "    attention_masks.append(encoded_data['attention_mask'])\n",
    "\n",
    "input_ids = torch.cat(input_ids, dim=0)\n",
    "attention_masks = torch.cat(attention_masks, dim=0)\n",
    "labels = torch.tensor(labels)"
   ]
  },
  {
   "cell_type": "code",
   "execution_count": 120,
   "metadata": {},
   "outputs": [],
   "source": [
    "from torch.utils.data import DataLoader,SequentialSampler,RandomSampler,TensorDataset,random_split\n",
    "from transformers import get_linear_schedule_with_warmup"
   ]
  },
  {
   "cell_type": "markdown",
   "metadata": {},
   "source": [
    "Dataset Partitioning"
   ]
  },
  {
   "cell_type": "code",
   "execution_count": 121,
   "metadata": {},
   "outputs": [
    {
     "name": "stdout",
     "output_type": "stream",
     "text": [
      "Training Size: 168980\n",
      "Validation Size: 21122\n",
      "Test Size: 21123\n"
     ]
    }
   ],
   "source": [
    "dataset = TensorDataset(input_ids, attention_masks, labels)\n",
    "total_size = len(dataset)\n",
    "\n",
    "train_size = int(0.8 * total_size)\n",
    "test_val_size = total_size - train_size\n",
    "val_size = int(0.5 * test_val_size)\n",
    "test_size = test_val_size - val_size\n",
    "\n",
    "train_dataset, test_val_dataset = random_split(dataset, [train_size, test_val_size])\n",
    "val_dataset, test_dataset = random_split(test_val_dataset, [val_size, test_size])\n",
    "\n",
    "batch_size = 32\n",
    "\n",
    "train_dataloader = DataLoader(train_dataset, sampler=RandomSampler(train_dataset), batch_size=batch_size)\n",
    "validation_dataloader = DataLoader(val_dataset, sampler=SequentialSampler(val_dataset), batch_size=batch_size)\n",
    "test_dataloader = DataLoader(test_dataset, sampler=SequentialSampler(test_dataset), batch_size=batch_size)\n",
    "\n",
    "print('Training Size:', train_size)\n",
    "print('Validation Size:', val_size)\n",
    "print('Test Size:', test_size)"
   ]
  },
  {
   "cell_type": "markdown",
   "metadata": {},
   "source": [
    "Pretrained BERT Model"
   ]
  },
  {
   "cell_type": "code",
   "execution_count": 122,
   "metadata": {},
   "outputs": [
    {
     "name": "stderr",
     "output_type": "stream",
     "text": [
      "Some weights of BertForSequenceClassification were not initialized from the model checkpoint at bert-base-uncased and are newly initialized: ['classifier.bias', 'classifier.weight']\n",
      "You should probably TRAIN this model on a down-stream task to be able to use it for predictions and inference.\n"
     ]
    }
   ],
   "source": [
    "model = BertForSequenceClassification.from_pretrained(\n",
    "    'bert-base-uncased',\n",
    "    num_labels=len(emotion_labels),\n",
    "    output_attentions=False,\n",
    "    output_hidden_states=False\n",
    ")"
   ]
  },
  {
   "cell_type": "markdown",
   "metadata": {},
   "source": [
    "Set Random Seed for Reproducibility"
   ]
  },
  {
   "cell_type": "code",
   "execution_count": 123,
   "metadata": {},
   "outputs": [],
   "source": [
    "import random\n",
    "\n",
    "seed_val = 17\n",
    "random.seed(seed_val)\n",
    "np.random.seed(seed_val)\n",
    "torch.manual_seed(seed_val)\n",
    "torch.cuda.manual_seed_all(seed_val)"
   ]
  },
  {
   "cell_type": "markdown",
   "metadata": {},
   "source": [
    "Training Hyperparameters"
   ]
  },
  {
   "cell_type": "code",
   "execution_count": 124,
   "metadata": {},
   "outputs": [
    {
     "name": "stderr",
     "output_type": "stream",
     "text": [
      "/home/19aag9/ENTER/lib/python3.11/site-packages/transformers/optimization.py:411: FutureWarning: This implementation of AdamW is deprecated and will be removed in a future version. Use the PyTorch implementation torch.optim.AdamW instead, or set `no_deprecation_warning=True` to disable this warning\n",
      "  warnings.warn(\n"
     ]
    },
    {
     "data": {
      "text/plain": [
       "device(type='cuda')"
      ]
     },
     "execution_count": 124,
     "metadata": {},
     "output_type": "execute_result"
    }
   ],
   "source": [
    "optimizer = AdamW(model.parameters(), lr=2e-5, eps=1e-8)\n",
    "epochs = 4\n",
    "total_steps = len(train_dataloader) * epochs\n",
    "scheduler = get_linear_schedule_with_warmup(optimizer, num_warmup_steps=0, num_training_steps=total_steps)\n",
    "\n",
    "device = torch.device('cuda' if torch.cuda.is_available() else 'cpu')\n",
    "model.to(device)\n",
    "device"
   ]
  },
  {
   "cell_type": "markdown",
   "metadata": {},
   "source": [
    "Evaluation Function for Validation and Testing Sets"
   ]
  },
  {
   "cell_type": "code",
   "execution_count": 125,
   "metadata": {},
   "outputs": [],
   "source": [
    "def evaluate(dataloader_val):\n",
    "    model.eval()\n",
    "    loss_val_total = 0\n",
    "\n",
    "    loss_function = nn.BCEWithLogitsLoss()\n",
    "\n",
    "    predictions, true_vals = [], []\n",
    "\n",
    "    for batch in dataloader_val:\n",
    "        batch = tuple(b.to(device) for b in batch)\n",
    "        inputs = {'input_ids': batch[0], 'attention_mask': batch[1]}\n",
    "        labels = batch[2]\n",
    "        \n",
    "        with torch.no_grad():\n",
    "            outputs = model(**inputs)\n",
    "            logits = outputs.logits \n",
    "\n",
    "            loss = loss_function(logits, labels.float()) \n",
    "            loss_val_total += loss.item()\n",
    "\n",
    "            logits = logits.detach().cpu().numpy()\n",
    "            label_ids = labels.cpu().numpy()\n",
    "            predictions.append(logits)\n",
    "            true_vals.append(label_ids)\n",
    "\n",
    "    loss_val_avg = loss_val_total / len(dataloader_val)\n",
    "\n",
    "    predictions = np.concatenate(predictions, axis=0)\n",
    "    true_vals = np.concatenate(true_vals, axis=0)\n",
    "\n",
    "    return loss_val_avg, predictions, true_vals"
   ]
  },
  {
   "cell_type": "markdown",
   "metadata": {},
   "source": [
    "Training Loop: tracking validation and testing sets"
   ]
  },
  {
   "cell_type": "code",
   "execution_count": 126,
   "metadata": {},
   "outputs": [
    {
     "data": {
      "application/vnd.jupyter.widget-view+json": {
       "model_id": "22f08644d9fd44a89cedd83c10ab997b",
       "version_major": 2,
       "version_minor": 0
      },
      "text/plain": [
       "  0%|          | 0/4 [00:00<?, ?it/s]"
      ]
     },
     "metadata": {},
     "output_type": "display_data"
    },
    {
     "data": {
      "application/vnd.jupyter.widget-view+json": {
       "model_id": "7e7abdc3d8e94acdb7315559e158cbd0",
       "version_major": 2,
       "version_minor": 0
      },
      "text/plain": [
       "Epoch 1:   0%|          | 0/5281 [00:00<?, ?it/s]"
      ]
     },
     "metadata": {},
     "output_type": "display_data"
    },
    {
     "name": "stdout",
     "output_type": "stream",
     "text": [
      "\n",
      "Epoch 1\n",
      "Training loss: 0.13000203135778363\n",
      "Validation loss: 0.11364170345343909\n"
     ]
    },
    {
     "data": {
      "application/vnd.jupyter.widget-view+json": {
       "model_id": "16c0c5da99524811981f8a478e4be071",
       "version_major": 2,
       "version_minor": 0
      },
      "text/plain": [
       "Epoch 2:   0%|          | 0/5281 [00:00<?, ?it/s]"
      ]
     },
     "metadata": {},
     "output_type": "display_data"
    },
    {
     "name": "stdout",
     "output_type": "stream",
     "text": [
      "\n",
      "Epoch 2\n",
      "Training loss: 0.10954720564461684\n",
      "Validation loss: 0.11132314556620666\n"
     ]
    },
    {
     "data": {
      "application/vnd.jupyter.widget-view+json": {
       "model_id": "c2085b8c34db4de989fd88b5f82dea1a",
       "version_major": 2,
       "version_minor": 0
      },
      "text/plain": [
       "Epoch 3:   0%|          | 0/5281 [00:00<?, ?it/s]"
      ]
     },
     "metadata": {},
     "output_type": "display_data"
    },
    {
     "name": "stdout",
     "output_type": "stream",
     "text": [
      "\n",
      "Epoch 3\n",
      "Training loss: 0.10392213421204487\n",
      "Validation loss: 0.11118024625954938\n"
     ]
    },
    {
     "data": {
      "application/vnd.jupyter.widget-view+json": {
       "model_id": "e61f09911f5d4168953245d830f15fda",
       "version_major": 2,
       "version_minor": 0
      },
      "text/plain": [
       "Epoch 4:   0%|          | 0/5281 [00:00<?, ?it/s]"
      ]
     },
     "metadata": {},
     "output_type": "display_data"
    },
    {
     "name": "stdout",
     "output_type": "stream",
     "text": [
      "\n",
      "Epoch 4\n",
      "Training loss: 0.09973483431863528\n",
      "Validation loss: 0.11237489705998309\n"
     ]
    }
   ],
   "source": [
    "from tqdm.notebook import tqdm\n",
    "\n",
    "loss_function = nn.BCEWithLogitsLoss()\n",
    "\n",
    "train_losses = []\n",
    "val_losses = []\n",
    "\n",
    "for epoch in tqdm(range(1, epochs+1)):\n",
    "    model.train()\n",
    "    loss_train_total = 0\n",
    "\n",
    "    progress_bar = tqdm(train_dataloader, desc='Epoch {:1d}'.format(epoch), leave=False, disable=False)\n",
    "    for batch in progress_bar:\n",
    "        model.zero_grad()\n",
    "\n",
    "        input_ids = batch[0].to(device)\n",
    "        attention_mask = batch[1].to(device)\n",
    "        labels = batch[2].to(device)\n",
    "\n",
    "        outputs = model(input_ids, attention_mask=attention_mask)\n",
    "        logits = outputs.logits\n",
    "\n",
    "        loss = loss_function(logits, labels.float())\n",
    "        loss_train_total += loss.item()\n",
    "\n",
    "        loss.backward()\n",
    "        torch.nn.utils.clip_grad_norm_(model.parameters(), 1.0)\n",
    "        optimizer.step()\n",
    "        scheduler.step()\n",
    "\n",
    "        progress_bar.set_postfix({'training_loss': '{:.3f}'.format(loss.item()/len(batch))})\n",
    "         \n",
    "    tqdm.write(f'\\nEpoch {epoch}')\n",
    "    train_loss = loss_train_total/len(train_dataloader)   \n",
    "    train_losses.append(train_loss)         \n",
    "    tqdm.write(f'Training loss: {train_loss}')\n",
    "\n",
    "    val_loss, predictions, true_labels = evaluate(validation_dataloader)\n",
    "    val_losses.append(val_loss)\n",
    "    tqdm.write(f'Validation loss: {val_loss}')\n"
   ]
  },
  {
   "cell_type": "markdown",
   "metadata": {},
   "source": [
    "Visualizing Training and Validation Loss"
   ]
  },
  {
   "cell_type": "code",
   "execution_count": 127,
   "metadata": {},
   "outputs": [
    {
     "data": {
      "image/png": "[encoded data removed]",
      "text/plain": [
       "<Figure size 1000x600 with 1 Axes>"
      ]
     },
     "metadata": {},
     "output_type": "display_data"
    }
   ],
   "source": [
    "plt.figure(figsize=(10, 6))\n",
    "plt.plot(train_losses, label='Training Loss')\n",
    "plt.plot(val_losses, label='Validation Loss')\n",
    "plt.xlabel('Epoch')\n",
    "plt.ylabel('Loss')\n",
    "plt.legend()\n",
    "plt.show()"
   ]
  },
  {
   "cell_type": "markdown",
   "metadata": {},
   "source": [
    "Save the finetuned BERT model"
   ]
  },
  {
   "cell_type": "code",
   "execution_count": 128,
   "metadata": {},
   "outputs": [],
   "source": [
    "output_dir = './goemotions'\n"
   ]
  },
  {
   "cell_type": "code",
   "execution_count": 138,
   "metadata": {},
   "outputs": [
    {
     "data": {
      "text/plain": [
       "('./goemotions/tokenizer_config.json',\n",
       " './goemotions/special_tokens_map.json',\n",
       " './goemotions/vocab.txt',\n",
       " './goemotions/added_tokens.json')"
      ]
     },
     "execution_count": 138,
     "metadata": {},
     "output_type": "execute_result"
    }
   ],
   "source": [
    "import os\n",
    "if not os.path.exists(output_dir):\n",
    "    os.makedirs(output_dir)\n",
    "\n",
    "model_to_save = model.module if hasattr(model, 'module') else model\n",
    "model_to_save.save_pretrained(output_dir)\n",
    "tokenizer.save_pretrained(output_dir)"
   ]
  },
  {
   "cell_type": "code",
   "execution_count": 139,
   "metadata": {},
   "outputs": [],
   "source": [
    "from sklearn.metrics import accuracy_score, f1_score, precision_recall_fscore_support, confusion_matrix"
   ]
  },
  {
   "cell_type": "markdown",
   "metadata": {},
   "source": [
    "Model Inference"
   ]
  },
  {
   "cell_type": "code",
   "execution_count": 140,
   "metadata": {},
   "outputs": [],
   "source": [
    "model = BertForSequenceClassification.from_pretrained(output_dir)\n",
    "tokenizer = BertTokenizer.from_pretrained(output_dir)\n",
    "model.to(device)\n",
    "\n",
    "def predict_emotions(text):\n",
    "    encoded_dict = tokenizer.encode_plus(\n",
    "                        text, \n",
    "                        add_special_tokens=True,\n",
    "                        max_length=128,\n",
    "                        pad_to_max_length=True,\n",
    "                        return_attention_mask=True,\n",
    "                        return_tensors='pt',\n",
    "                   )\n",
    "    input_id = encoded_dict['input_ids'].to(device)\n",
    "    attention_mask = encoded_dict['attention_mask'].to(device)\n",
    "\n",
    "    with torch.no_grad():\n",
    "        outputs = model(input_id, token_type_ids=None, attention_mask=attention_mask)\n",
    "\n",
    "    logits = outputs[0]\n",
    "    predicted_prob = torch.sigmoid(logits).cpu().numpy()\n",
    "    return predicted_prob\n"
   ]
  },
  {
   "cell_type": "code",
   "execution_count": 141,
   "metadata": {},
   "outputs": [
    {
     "name": "stderr",
     "output_type": "stream",
     "text": [
      "Truncation was not explicitly activated but `max_length` is provided a specific value, please use `truncation=True` to explicitly truncate examples to max length. Defaulting to 'longest_first' truncation strategy. If you encode pairs of sequences (GLUE-style) with the tokenizer you can select this strategy more precisely by providing a specific strategy to `truncation`.\n"
     ]
    },
    {
     "name": "stdout",
     "output_type": "stream",
     "text": [
      "Predicted Emotion Probabilities: [[5.2459598e-02 2.2727039e-02 1.8128123e-03 2.8101171e-03 6.4334475e-02\n",
      "  7.2530615e-03 2.1436492e-03 3.5539945e-03 7.1521350e-03 4.5299022e-03\n",
      "  2.8393327e-03 1.2461786e-03 1.3831240e-03 1.7245223e-01 7.4081193e-04\n",
      "  2.5791073e-02 5.8157236e-04 7.7959579e-01 1.5141568e-02 1.9949549e-03\n",
      "  1.4630732e-02 7.5604464e-03 1.1348129e-02 1.0874196e-02 6.1368273e-04\n",
      "  3.8138255e-03 4.2845220e-03 2.8531022e-02]]\n",
      "Predicted Emotions: ['joy']\n"
     ]
    },
    {
     "name": "stderr",
     "output_type": "stream",
     "text": [
      "/home/19aag9/ENTER/lib/python3.11/site-packages/transformers/tokenization_utils_base.py:2418: FutureWarning: The `pad_to_max_length` argument is deprecated and will be removed in a future version, use `padding=True` or `padding='longest'` to pad to the longest sequence in the batch, or use `padding='max_length'` to pad to a max length. In this case, you can give a specific length with `max_length` (e.g. `max_length=45`) or leave max_length to None to pad to the maximal input size of the model (e.g. 512 for Bert).\n",
      "  warnings.warn(\n"
     ]
    }
   ],
   "source": [
    "sample_text = \"I'm really enjoy ELEC825!\"\n",
    "predicted_prob = predict_emotions(sample_text)\n",
    "predicted_emotions_bin = (predicted_prob > 0.5).astype(int)\n",
    "predicted_emotions = [emotion_labels[i] for i, pred in enumerate(predicted_emotions_bin[0]) if pred == 1]\n",
    "print(\"Predicted Emotion Probabilities:\", predicted_prob)\n",
    "print(\"Predicted Emotions:\", predicted_emotions)"
   ]
  },
  {
   "cell_type": "code",
   "execution_count": 142,
   "metadata": {},
   "outputs": [
    {
     "name": "stdout",
     "output_type": "stream",
     "text": [
      "Text: that game hurt.\n",
      "Actual Emotions: ['neutral']\n",
      "Predicted Emotions: []\n",
      "\n",
      "Text: >sexuality shouldn’t be a grouping category it makes you different from othet ppl so imo it fits the definition of \"grouping\"\n",
      "Actual Emotions: ['annoyance', 'disappointment']\n",
      "Predicted Emotions: ['remorse']\n",
      "\n",
      "Text: you do right, if you don't care then fuck 'em!\n",
      "Actual Emotions: ['approval']\n",
      "Predicted Emotions: []\n",
      "\n",
      "Text: man i love reddit.\n",
      "Actual Emotions: []\n",
      "Predicted Emotions: ['neutral']\n",
      "\n",
      "Text: [name] was nowhere near them, he was by the falcon.\n",
      "Actual Emotions: ['disapproval']\n",
      "Predicted Emotions: []\n",
      "\n"
     ]
    }
   ],
   "source": [
    "probabilities = torch.sigmoid(torch.tensor(predictions)).numpy()\n",
    "binary_predictions = (probabilities > 0.5).astype(int)\n",
    "misclassified_indices = np.where(np.any(binary_predictions != true_labels, axis=1))[0]\n",
    "\n",
    "for index in misclassified_indices[:5]:\n",
    "    print(f\"Text: {df.iloc[index]['text']}\")\n",
    "    print(f\"Actual Emotions: {[emotion_labels[i] for i, label in enumerate(true_labels[index]) if label == 1]}\")\n",
    "    print(f\"Predicted Emotions: {[emotion_labels[i] for i, label in enumerate(binary_predictions[index]) if label == 1]}\\n\")"
   ]
  },
  {
   "cell_type": "markdown",
   "metadata": {},
   "source": [
    "Test Set Evaluation"
   ]
  },
  {
   "cell_type": "code",
   "execution_count": 143,
   "metadata": {},
   "outputs": [],
   "source": [
    "test_loss, predictions, true_labels = evaluate(test_dataloader)"
   ]
  },
  {
   "cell_type": "code",
   "execution_count": 144,
   "metadata": {},
   "outputs": [
    {
     "name": "stdout",
     "output_type": "stream",
     "text": [
      "Classification Report:\n",
      "\n",
      "                precision    recall  f1-score   support\n",
      "\n",
      "    admiration       0.62      0.53      0.57      1748\n",
      "     amusement       0.61      0.61      0.61       895\n",
      "         anger       0.51      0.24      0.33       846\n",
      "     annoyance       0.49      0.04      0.08      1365\n",
      "      approval       0.50      0.11      0.19      1764\n",
      "        caring       0.43      0.21      0.28       591\n",
      "     confusion       0.54      0.17      0.26       769\n",
      "     curiosity       0.47      0.21      0.29       972\n",
      "        desire       0.42      0.14      0.21       349\n",
      "disappointment       0.63      0.05      0.10       848\n",
      "   disapproval       0.47      0.13      0.20      1099\n",
      "       disgust       0.61      0.16      0.26       524\n",
      " embarrassment       0.54      0.16      0.24       262\n",
      "    excitement       0.44      0.10      0.16       561\n",
      "          fear       0.48      0.36      0.41       313\n",
      "     gratitude       0.87      0.75      0.81      1142\n",
      "         grief       0.00      0.00      0.00        58\n",
      "           joy       0.56      0.23      0.32       782\n",
      "          love       0.64      0.65      0.64       793\n",
      "   nervousness       0.56      0.05      0.09       176\n",
      "      optimism       0.58      0.27      0.37       867\n",
      "         pride       0.00      0.00      0.00       132\n",
      "   realization       0.49      0.05      0.09       853\n",
      "        relief       0.00      0.00      0.00       132\n",
      "       remorse       0.40      0.28      0.33       247\n",
      "       sadness       0.54      0.27      0.36       656\n",
      "      surprise       0.54      0.27      0.36       565\n",
      "       neutral       0.63      0.34      0.44      5643\n",
      "\n",
      "     micro avg       0.60      0.28      0.38     24952\n",
      "     macro avg       0.48      0.23      0.29     24952\n",
      "  weighted avg       0.56      0.28      0.35     24952\n",
      "   samples avg       0.32      0.29      0.30     24952\n",
      "\n"
     ]
    },
    {
     "name": "stderr",
     "output_type": "stream",
     "text": [
      "/home/19aag9/ENTER/lib/python3.11/site-packages/sklearn/metrics/_classification.py:1469: UndefinedMetricWarning: Precision and F-score are ill-defined and being set to 0.0 in labels with no predicted samples. Use `zero_division` parameter to control this behavior.\n",
      "  _warn_prf(average, modifier, msg_start, len(result))\n",
      "/home/19aag9/ENTER/lib/python3.11/site-packages/sklearn/metrics/_classification.py:1469: UndefinedMetricWarning: Precision and F-score are ill-defined and being set to 0.0 in samples with no predicted labels. Use `zero_division` parameter to control this behavior.\n",
      "  _warn_prf(average, modifier, msg_start, len(result))\n",
      "/home/19aag9/ENTER/lib/python3.11/site-packages/sklearn/metrics/_classification.py:1469: UndefinedMetricWarning: Recall and F-score are ill-defined and being set to 0.0 in samples with no true labels. Use `zero_division` parameter to control this behavior.\n",
      "  _warn_prf(average, modifier, msg_start, len(result))\n"
     ]
    }
   ],
   "source": [
    "from sklearn.metrics import (hamming_loss, accuracy_score, jaccard_score,\n",
    "                             precision_score, recall_score, f1_score,\n",
    "                             roc_auc_score, average_precision_score, \n",
    "                             classification_report)\n",
    "\n",
    "probabilities = torch.sigmoid(torch.tensor(predictions)).numpy()\n",
    "\n",
    "threshold = 0.5\n",
    "binary_predictions = (probabilities > threshold).astype(int)\n",
    "print(\"Classification Report:\\n\")\n",
    "print(classification_report(true_labels, binary_predictions, target_names=emotion_labels))\n"
   ]
  },
  {
   "cell_type": "code",
   "execution_count": 149,
   "metadata": {},
   "outputs": [
    {
     "name": "stdout",
     "output_type": "stream",
     "text": [
      "Exact Match Accuracy: 0.2598\n",
      "Average Precision: 0.3431\n"
     ]
    }
   ],
   "source": [
    "exact_match_accuracy = accuracy_score(true_labels, binary_predictions)\n",
    "print(f\"Exact Match Accuracy: {exact_match_accuracy:.4f}\")\n",
    "\n",
    "averagePrecision = average_precision_score(true_labels, probabilities, average='macro')\n",
    "print(f\"Average Precision: {averagePrecision:.4f}\")"
   ]
  },
  {
   "cell_type": "code",
   "execution_count": 146,
   "metadata": {},
   "outputs": [
    {
     "name": "stdout",
     "output_type": "stream",
     "text": [
      "Hamming Loss: 0.0382\n",
      "Exact Match Ratio: 0.2598\n",
      "Jaccard Similarity: 0.2870\n",
      "\n"
     ]
    },
    {
     "name": "stderr",
     "output_type": "stream",
     "text": [
      "/home/19aag9/ENTER/lib/python3.11/site-packages/sklearn/metrics/_classification.py:1469: UndefinedMetricWarning: Jaccard is ill-defined and being set to 0.0 in samples with no true or predicted labels. Use `zero_division` parameter to control this behavior.\n",
      "  _warn_prf(average, modifier, msg_start, len(result))\n"
     ]
    }
   ],
   "source": [
    "hammingLoss = hamming_loss(true_labels, binary_predictions)\n",
    "print(\"Hamming Loss: {:.4f}\".format(hammingLoss))\n",
    "\n",
    "exactMatchRatio = accuracy_score(true_labels, binary_predictions)\n",
    "print(\"Exact Match Ratio: {:.4f}\".format(exactMatchRatio))\n",
    "\n",
    "jaccardSimilarity = jaccard_score(true_labels, binary_predictions, average='samples')\n",
    "print(\"Jaccard Similarity: {:.4f}\\n\".format(jaccardSimilarity))"
   ]
  },
  {
   "cell_type": "code",
   "execution_count": 147,
   "metadata": {},
   "outputs": [
    {
     "name": "stdout",
     "output_type": "stream",
     "text": [
      "Emotion              ROC-AUC    PR-AUC    \n",
      "----------------------------------------\n",
      "admiration           0.9203     0.5845\n",
      "amusement            0.9441     0.5678\n",
      "anger                0.8912     0.3466\n",
      "annoyance            0.8179     0.2450\n",
      "approval             0.7668     0.2813\n"
     ]
    },
    {
     "name": "stdout",
     "output_type": "stream",
     "text": [
      "caring               0.9006     0.3004\n",
      "confusion            0.8991     0.3467\n",
      "curiosity            0.9268     0.4040\n",
      "desire               0.8973     0.2625\n",
      "disappointment       0.8373     0.2336\n",
      "disapproval          0.8539     0.2701\n",
      "disgust              0.8885     0.2996\n",
      "embarrassment        0.8706     0.2553\n",
      "excitement           0.8745     0.2515\n",
      "fear                 0.9242     0.4077\n",
      "gratitude            0.9692     0.8381\n",
      "grief                0.8846     0.0645\n",
      "joy                  0.8908     0.3673\n",
      "love                 0.9730     0.6722\n",
      "nervousness          0.8745     0.1842\n",
      "optimism             0.8656     0.3696\n",
      "pride                0.8130     0.1266\n",
      "realization          0.7615     0.1582\n",
      "relief               0.8871     0.1215\n",
      "remorse              0.9321     0.3361\n",
      "sadness              0.9026     0.3750\n",
      "surprise             0.8937     0.3847\n",
      "neutral              0.7743     0.5526\n"
     ]
    }
   ],
   "source": [
    "print(f\"{'Emotion':<20} {'ROC-AUC':<10} {'PR-AUC':<10}\")\n",
    "print(\"-\" * 40)\n",
    "\n",
    "for i, label in enumerate(emotion_labels):\n",
    "    roc_auc = roc_auc_score(true_labels[:, i], probabilities[:, i])\n",
    "    pr_auc = average_precision_score(true_labels[:, i], probabilities[:, i])\n",
    "    print(f\"{label:<20} {roc_auc:.4f}     {pr_auc:.4f}\")"
   ]
  }
 ],
 "metadata": {
  "kernelspec": {
   "display_name": "base",
   "language": "python",
   "name": "python3"
  },
  "language_info": {
   "codemirror_mode": {
    "name": "ipython",
    "version": 3
   },
   "file_extension": ".py",
   "mimetype": "text/x-python",
   "name": "python",
   "nbconvert_exporter": "python",
   "pygments_lexer": "ipython3",
   "version": "3.11.5"
  }
 },
 "nbformat": 4,
 "nbformat_minor": 2
}
