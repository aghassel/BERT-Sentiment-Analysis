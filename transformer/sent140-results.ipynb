{
 "cells": [
  {
   "cell_type": "code",
   "execution_count": 1,
   "metadata": {},
   "outputs": [],
   "source": [
    "import numpy as np\n",
    "import pandas as pd\n",
    "import matplotlib.pyplot as plt\n",
    "import seaborn as sns\n",
    "import torch\n",
    "import pandas as pd\n",
    "\n",
    "from sklearn.metrics import classification_report, roc_curve, auc, roc_auc_score, accuracy_score, precision_recall_fscore_support, confusion_matrix"
   ]
  },
  {
   "cell_type": "markdown",
   "metadata": {},
   "source": [
    "# Sent140"
   ]
  },
  {
   "cell_type": "code",
   "execution_count": 2,
   "metadata": {},
   "outputs": [],
   "source": [
    "test = torch.load(\"../data/sent140-test.pth\") # TensorDataset: (input_ids, attention_mask, labels)\n",
    "test_dl = torch.utils.data.DataLoader(test, batch_size=32)\n",
    "# labels = test.tensors[2].numpy()\n",
    "# labels[:5]"
   ]
  },
  {
   "cell_type": "code",
   "execution_count": 3,
   "metadata": {},
   "outputs": [
    {
     "data": {
      "text/plain": [
       "array([1, 0, 0, 1, 0])"
      ]
     },
     "execution_count": 3,
     "metadata": {},
     "output_type": "execute_result"
    }
   ],
   "source": [
    "all_labels = []\n",
    "for _, _, labels in test_dl:\n",
    "    all_labels.extend([*labels])\n",
    "labels = np.array(all_labels)\n",
    "labels[:5]"
   ]
  },
  {
   "cell_type": "code",
   "execution_count": 4,
   "metadata": {},
   "outputs": [
    {
     "data": {
      "text/plain": [
       "array([[-0.03856618, -0.03297899],\n",
       "       [-0.03856619, -0.03297899],\n",
       "       [-0.03856618, -0.03297899],\n",
       "       [-0.03856618, -0.03297899],\n",
       "       [-0.03856619, -0.03297899]], dtype=float32)"
      ]
     },
     "execution_count": 4,
     "metadata": {},
     "output_type": "execute_result"
    }
   ],
   "source": [
    "probs = np.load(\"sent140-probs-new-1.npy\")\n",
    "probs[:5]"
   ]
  },
  {
   "cell_type": "code",
   "execution_count": 5,
   "metadata": {},
   "outputs": [
    {
     "data": {
      "text/plain": [
       "array([1, 1, 1, 1, 1])"
      ]
     },
     "execution_count": 5,
     "metadata": {},
     "output_type": "execute_result"
    }
   ],
   "source": [
    "preds = np.argmax(probs, axis=1)\n",
    "preds[:5]"
   ]
  },
  {
   "cell_type": "code",
   "execution_count": 8,
   "metadata": {},
   "outputs": [
    {
     "data": {
      "text/plain": [
       "{1}"
      ]
     },
     "execution_count": 8,
     "metadata": {},
     "output_type": "execute_result"
    }
   ],
   "source": [
    "set(preds)"
   ]
  },
  {
   "cell_type": "code",
   "execution_count": 6,
   "metadata": {},
   "outputs": [
    {
     "data": {
      "text/plain": [
       "((320000,), (320000,))"
      ]
     },
     "execution_count": 6,
     "metadata": {},
     "output_type": "execute_result"
    }
   ],
   "source": [
    "labels.shape, preds.shape"
   ]
  },
  {
   "cell_type": "code",
   "execution_count": 7,
   "metadata": {},
   "outputs": [
    {
     "name": "stdout",
     "output_type": "stream",
     "text": [
      "accuracy: 0.500796875\n",
      "precision: 0.500796875\n",
      "recall: 1.0\n",
      "f1: 0.6673746238977211\n",
      "confusion matrix:\n",
      "[[     0 159745]\n",
      " [     0 160255]]\n"
     ]
    }
   ],
   "source": [
    "accuracy = accuracy_score(labels, preds)\n",
    "print(f\"accuracy: {accuracy}\")\n",
    "precision, recall, f1, _ = precision_recall_fscore_support(labels, preds, average='binary')\n",
    "print(f\"precision: {precision}\")\n",
    "print(f\"recall: {recall}\")\n",
    "print(f\"f1: {f1}\")\n",
    "conf_mat = confusion_matrix(labels, preds)\n",
    "print(f\"confusion matrix:\\n{conf_mat}\")"
   ]
  },
  {
   "cell_type": "code",
   "execution_count": null,
   "metadata": {},
   "outputs": [],
   "source": [
    "from sklearn.metrics import (hamming_loss, accuracy_score, jaccard_score,\n",
    "                             precision_score, recall_score, f1_score,\n",
    "                             roc_auc_score, average_precision_score, \n",
    "                             classification_report)\n",
    "\n",
    "print(\"Classification Report:\\n\")\n",
    "print(classification_report(labels, preds, target_names=emotion_labels))"
   ]
  },
  {
   "cell_type": "code",
   "execution_count": null,
   "metadata": {},
   "outputs": [],
   "source": [
    "exact_match_accuracy = accuracy_score(labels, preds)\n",
    "print(f\"Exact Match Accuracy: {exact_match_accuracy:.4f}\")\n",
    "\n",
    "averagePrecision = average_precision_score(labels, probs, average='macro')\n",
    "print(f\"Average Precision: {averagePrecision:.4f}\")"
   ]
  },
  {
   "cell_type": "code",
   "execution_count": null,
   "metadata": {},
   "outputs": [],
   "source": [
    "hammingLoss = hamming_loss(labels, preds)\n",
    "print(\"Hamming Loss: {:.4f}\".format(hammingLoss))\n",
    "\n",
    "exactMatchRatio = accuracy_score(labels, preds)\n",
    "print(\"Exact Match Ratio: {:.4f}\".format(exactMatchRatio))\n",
    "\n",
    "jaccardSimilarity = jaccard_score(labels, preds, average='samples')\n",
    "print(\"Jaccard Similarity: {:.4f}\\n\".format(jaccardSimilarity))"
   ]
  },
  {
   "cell_type": "code",
   "execution_count": null,
   "metadata": {},
   "outputs": [],
   "source": [
    "print(f\"{'Emotion':<20} {'ROC-AUC':<10} {'PR-AUC':<10}\")\n",
    "print(\"-\" * 40)\n",
    "\n",
    "for i, label in enumerate(emotion_labels):\n",
    "    roc_auc = roc_auc_score(labels[:, i], probs[:, i])\n",
    "    pr_auc = average_precision_score(labels[:, i], probs[:, i])\n",
    "    print(f\"{label:<20} {roc_auc:.4f}     {pr_auc:.4f}\")"
   ]
  }
 ],
 "metadata": {
  "kernelspec": {
   "display_name": "ai",
   "language": "python",
   "name": "python3"
  },
  "language_info": {
   "codemirror_mode": {
    "name": "ipython",
    "version": 3
   },
   "file_extension": ".py",
   "mimetype": "text/x-python",
   "name": "python",
   "nbconvert_exporter": "python",
   "pygments_lexer": "ipython3",
   "version": "3.11.6"
  }
 },
 "nbformat": 4,
 "nbformat_minor": 2
}
