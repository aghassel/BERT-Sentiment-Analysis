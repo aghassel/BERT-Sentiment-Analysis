{
 "cells": [
  {
   "cell_type": "markdown",
   "metadata": {},
   "source": [
    "GPU Server Specs"
   ]
  },
  {
   "cell_type": "code",
   "execution_count": 2,
   "metadata": {},
   "outputs": [
    {
     "name": "stdout",
     "output_type": "stream",
     "text": [
      "Sat Nov 25 02:26:40 2023       \n",
      "+-----------------------------------------------------------------------------+\n",
      "| NVIDIA-SMI 525.147.05   Driver Version: 525.147.05   CUDA Version: 12.0     |\n",
      "|-------------------------------+----------------------+----------------------+\n",
      "| GPU  Name        Persistence-M| Bus-Id        Disp.A | Volatile Uncorr. ECC |\n",
      "| Fan  Temp  Perf  Pwr:Usage/Cap|         Memory-Usage | GPU-Util  Compute M. |\n",
      "|                               |                      |               MIG M. |\n",
      "|===============================+======================+======================|\n",
      "|   0  NVIDIA GeForce ...  Off  | 00000000:09:00.0 Off |                  N/A |\n",
      "|  0%   46C    P8    24W / 350W |     10MiB / 24576MiB |      0%      Default |\n",
      "|                               |                      |                  N/A |\n",
      "+-------------------------------+----------------------+----------------------+\n",
      "|   1  NVIDIA GeForce ...  Off  | 00000000:41:00.0 Off |                  N/A |\n",
      "|  0%   38C    P8    25W / 350W |    198MiB / 24576MiB |      0%      Default |\n",
      "|                               |                      |                  N/A |\n",
      "+-------------------------------+----------------------+----------------------+\n",
      "                                                                               \n",
      "+-----------------------------------------------------------------------------+\n",
      "| Processes:                                                                  |\n",
      "|  GPU   GI   CI        PID   Type   Process name                  GPU Memory |\n",
      "|        ID   ID                                                   Usage      |\n",
      "|=============================================================================|\n",
      "|    0   N/A  N/A      1864      G   /usr/lib/xorg/Xorg                  4MiB |\n",
      "|    0   N/A  N/A      2437      G   /usr/lib/xorg/Xorg                  4MiB |\n",
      "|    1   N/A  N/A      1864      G   /usr/lib/xorg/Xorg                 56MiB |\n",
      "|    1   N/A  N/A      2062      G   /usr/bin/gnome-shell               14MiB |\n",
      "|    1   N/A  N/A      2437      G   /usr/lib/xorg/Xorg                 35MiB |\n",
      "+-----------------------------------------------------------------------------+\n"
     ]
    }
   ],
   "source": [
    "!nvidia-smi"
   ]
  },
  {
   "cell_type": "code",
   "execution_count": 3,
   "metadata": {},
   "outputs": [],
   "source": [
    "import numpy as np\n",
    "import pandas as pd\n",
    "import seaborn as sns\n",
    "import matplotlib.pyplot as plt\n",
    "import torch\n",
    "import torch.nn as nn\n",
    "import torch.nn.functional as F\n",
    "%matplotlib inline\n",
    "sns.set(color_codes=True)\n",
    "\n",
    "from transformers import BertTokenizer,BertForSequenceClassification,AdamW"
   ]
  },
  {
   "cell_type": "code",
   "execution_count": 4,
   "metadata": {},
   "outputs": [],
   "source": [
    "file_paths = ['data/goemotions_1.csv', 'data/goemotions_2.csv', 'data/goemotions_3.csv']\n",
    "\n",
    "df_list = [pd.read_csv(file) for file in file_paths]\n",
    "df = pd.concat(df_list, ignore_index=True)\n",
    "\n",
    "emotion_labels = ['admiration', 'amusement', 'anger', 'annoyance', 'approval', 'caring', \n",
    "                  'confusion', 'curiosity', 'desire', 'disappointment', 'disapproval', \n",
    "                  'disgust', 'embarrassment', 'excitement', 'fear', 'gratitude', 'grief', \n",
    "                  'joy', 'love', 'nervousness', 'optimism', 'pride', 'realization', \n",
    "                  'relief', 'remorse', 'sadness', 'surprise', 'neutral']\n",
    "df = df[['text'] + emotion_labels]"
   ]
  },
  {
   "cell_type": "markdown",
   "metadata": {},
   "source": [
    "Dataset Size"
   ]
  },
  {
   "cell_type": "code",
   "execution_count": 5,
   "metadata": {},
   "outputs": [
    {
     "name": "stdout",
     "output_type": "stream",
     "text": [
      "Number of Reddit Samples:  211225\n"
     ]
    }
   ],
   "source": [
    "print(f'Number of Reddit Samples: ',len(df))"
   ]
  },
  {
   "cell_type": "code",
   "execution_count": 6,
   "metadata": {},
   "outputs": [
    {
     "data": {
      "text/html": [
       "<div>\n",
       "<style scoped>\n",
       "    .dataframe tbody tr th:only-of-type {\n",
       "        vertical-align: middle;\n",
       "    }\n",
       "\n",
       "    .dataframe tbody tr th {\n",
       "        vertical-align: top;\n",
       "    }\n",
       "\n",
       "    .dataframe thead th {\n",
       "        text-align: right;\n",
       "    }\n",
       "</style>\n",
       "<table border=\"1\" class=\"dataframe\">\n",
       "  <thead>\n",
       "    <tr style=\"text-align: right;\">\n",
       "      <th></th>\n",
       "      <th>text</th>\n",
       "      <th>admiration</th>\n",
       "      <th>amusement</th>\n",
       "      <th>anger</th>\n",
       "      <th>annoyance</th>\n",
       "      <th>approval</th>\n",
       "      <th>caring</th>\n",
       "      <th>confusion</th>\n",
       "      <th>curiosity</th>\n",
       "      <th>desire</th>\n",
       "      <th>...</th>\n",
       "      <th>love</th>\n",
       "      <th>nervousness</th>\n",
       "      <th>optimism</th>\n",
       "      <th>pride</th>\n",
       "      <th>realization</th>\n",
       "      <th>relief</th>\n",
       "      <th>remorse</th>\n",
       "      <th>sadness</th>\n",
       "      <th>surprise</th>\n",
       "      <th>neutral</th>\n",
       "    </tr>\n",
       "  </thead>\n",
       "  <tbody>\n",
       "    <tr>\n",
       "      <th>0</th>\n",
       "      <td>That game hurt.</td>\n",
       "      <td>0</td>\n",
       "      <td>0</td>\n",
       "      <td>0</td>\n",
       "      <td>0</td>\n",
       "      <td>0</td>\n",
       "      <td>0</td>\n",
       "      <td>0</td>\n",
       "      <td>0</td>\n",
       "      <td>0</td>\n",
       "      <td>...</td>\n",
       "      <td>0</td>\n",
       "      <td>0</td>\n",
       "      <td>0</td>\n",
       "      <td>0</td>\n",
       "      <td>0</td>\n",
       "      <td>0</td>\n",
       "      <td>0</td>\n",
       "      <td>1</td>\n",
       "      <td>0</td>\n",
       "      <td>0</td>\n",
       "    </tr>\n",
       "    <tr>\n",
       "      <th>1</th>\n",
       "      <td>&gt;sexuality shouldn’t be a grouping category I...</td>\n",
       "      <td>0</td>\n",
       "      <td>0</td>\n",
       "      <td>0</td>\n",
       "      <td>0</td>\n",
       "      <td>0</td>\n",
       "      <td>0</td>\n",
       "      <td>0</td>\n",
       "      <td>0</td>\n",
       "      <td>0</td>\n",
       "      <td>...</td>\n",
       "      <td>0</td>\n",
       "      <td>0</td>\n",
       "      <td>0</td>\n",
       "      <td>0</td>\n",
       "      <td>0</td>\n",
       "      <td>0</td>\n",
       "      <td>0</td>\n",
       "      <td>0</td>\n",
       "      <td>0</td>\n",
       "      <td>0</td>\n",
       "    </tr>\n",
       "    <tr>\n",
       "      <th>2</th>\n",
       "      <td>You do right, if you don't care then fuck 'em!</td>\n",
       "      <td>0</td>\n",
       "      <td>0</td>\n",
       "      <td>0</td>\n",
       "      <td>0</td>\n",
       "      <td>0</td>\n",
       "      <td>0</td>\n",
       "      <td>0</td>\n",
       "      <td>0</td>\n",
       "      <td>0</td>\n",
       "      <td>...</td>\n",
       "      <td>0</td>\n",
       "      <td>0</td>\n",
       "      <td>0</td>\n",
       "      <td>0</td>\n",
       "      <td>0</td>\n",
       "      <td>0</td>\n",
       "      <td>0</td>\n",
       "      <td>0</td>\n",
       "      <td>0</td>\n",
       "      <td>1</td>\n",
       "    </tr>\n",
       "    <tr>\n",
       "      <th>3</th>\n",
       "      <td>Man I love reddit.</td>\n",
       "      <td>0</td>\n",
       "      <td>0</td>\n",
       "      <td>0</td>\n",
       "      <td>0</td>\n",
       "      <td>0</td>\n",
       "      <td>0</td>\n",
       "      <td>0</td>\n",
       "      <td>0</td>\n",
       "      <td>0</td>\n",
       "      <td>...</td>\n",
       "      <td>1</td>\n",
       "      <td>0</td>\n",
       "      <td>0</td>\n",
       "      <td>0</td>\n",
       "      <td>0</td>\n",
       "      <td>0</td>\n",
       "      <td>0</td>\n",
       "      <td>0</td>\n",
       "      <td>0</td>\n",
       "      <td>0</td>\n",
       "    </tr>\n",
       "    <tr>\n",
       "      <th>4</th>\n",
       "      <td>[NAME] was nowhere near them, he was by the Fa...</td>\n",
       "      <td>0</td>\n",
       "      <td>0</td>\n",
       "      <td>0</td>\n",
       "      <td>0</td>\n",
       "      <td>0</td>\n",
       "      <td>0</td>\n",
       "      <td>0</td>\n",
       "      <td>0</td>\n",
       "      <td>0</td>\n",
       "      <td>...</td>\n",
       "      <td>0</td>\n",
       "      <td>0</td>\n",
       "      <td>0</td>\n",
       "      <td>0</td>\n",
       "      <td>0</td>\n",
       "      <td>0</td>\n",
       "      <td>0</td>\n",
       "      <td>0</td>\n",
       "      <td>0</td>\n",
       "      <td>1</td>\n",
       "    </tr>\n",
       "  </tbody>\n",
       "</table>\n",
       "<p>5 rows × 29 columns</p>\n",
       "</div>"
      ],
      "text/plain": [
       "                                                text  admiration  amusement  \\\n",
       "0                                    That game hurt.           0          0   \n",
       "1   >sexuality shouldn’t be a grouping category I...           0          0   \n",
       "2     You do right, if you don't care then fuck 'em!           0          0   \n",
       "3                                 Man I love reddit.           0          0   \n",
       "4  [NAME] was nowhere near them, he was by the Fa...           0          0   \n",
       "\n",
       "   anger  annoyance  approval  caring  confusion  curiosity  desire  ...  \\\n",
       "0      0          0         0       0          0          0       0  ...   \n",
       "1      0          0         0       0          0          0       0  ...   \n",
       "2      0          0         0       0          0          0       0  ...   \n",
       "3      0          0         0       0          0          0       0  ...   \n",
       "4      0          0         0       0          0          0       0  ...   \n",
       "\n",
       "   love  nervousness  optimism  pride  realization  relief  remorse  sadness  \\\n",
       "0     0            0         0      0            0       0        0        1   \n",
       "1     0            0         0      0            0       0        0        0   \n",
       "2     0            0         0      0            0       0        0        0   \n",
       "3     1            0         0      0            0       0        0        0   \n",
       "4     0            0         0      0            0       0        0        0   \n",
       "\n",
       "   surprise  neutral  \n",
       "0         0        0  \n",
       "1         0        0  \n",
       "2         0        1  \n",
       "3         0        0  \n",
       "4         0        1  \n",
       "\n",
       "[5 rows x 29 columns]"
      ]
     },
     "execution_count": 6,
     "metadata": {},
     "output_type": "execute_result"
    }
   ],
   "source": [
    "df.head()"
   ]
  },
  {
   "cell_type": "code",
   "execution_count": 7,
   "metadata": {},
   "outputs": [],
   "source": [
    "import re\n",
    "\n",
    "hashtags = re.compile(r\"^#\\S+|\\s#\\S+\")\n",
    "mentions = re.compile(r\"^@\\S+|\\s@\\S+\")\n",
    "urls = re.compile(r\"https?://\\S+\")\n",
    "\n",
    "def process_text(text):\n",
    "    text = re.sub(r'http\\S+', '', text)\n",
    "    text = hashtags.sub(' hashtag', text)\n",
    "    text = mentions.sub(' entity', text)\n",
    "    return text.strip().lower()\n",
    "\n",
    "df['text'] = df.text.apply(process_text)"
   ]
  },
  {
   "cell_type": "code",
   "execution_count": 8,
   "metadata": {},
   "outputs": [
    {
     "data": {
      "image/png": "[encoded data removed]",
      "text/plain": [
       "<Figure size 1500x800 with 1 Axes>"
      ]
     },
     "metadata": {},
     "output_type": "display_data"
    }
   ],
   "source": [
    "emotion_counts = df[emotion_labels].sum()\n",
    "sorted_emotion_counts = emotion_counts.sort_values(ascending=False)\n",
    "\n",
    "plt.figure(figsize=(15, 8))\n",
    "sorted_emotion_counts.plot(kind='bar')\n",
    "plt.title('Distribution of Emotions in the GoEmotions Dataset')\n",
    "plt.xlabel('Emotions')\n",
    "plt.ylabel('Frequency')\n",
    "plt.xticks(rotation=45)\n",
    "plt.show()"
   ]
  },
  {
   "cell_type": "code",
   "execution_count": 9,
   "metadata": {},
   "outputs": [
    {
     "data": {
      "text/plain": [
       "array([[0, 0, 0, ..., 1, 0, 0],\n",
       "       [0, 0, 0, ..., 0, 0, 0],\n",
       "       [0, 0, 0, ..., 0, 0, 1],\n",
       "       ...,\n",
       "       [1, 0, 0, ..., 0, 0, 0],\n",
       "       [0, 0, 1, ..., 0, 0, 0],\n",
       "       [0, 0, 0, ..., 0, 0, 0]])"
      ]
     },
     "execution_count": 9,
     "metadata": {},
     "output_type": "execute_result"
    }
   ],
   "source": [
    "df[emotion_labels].values"
   ]
  },
  {
   "cell_type": "markdown",
   "metadata": {},
   "source": [
    "Tokenization and Input Formatting"
   ]
  },
  {
   "cell_type": "code",
   "execution_count": 10,
   "metadata": {},
   "outputs": [
    {
     "name": "stderr",
     "output_type": "stream",
     "text": [
      "Truncation was not explicitly activated but `max_length` is provided a specific value, please use `truncation=True` to explicitly truncate examples to max length. Defaulting to 'longest_first' truncation strategy. If you encode pairs of sequences (GLUE-style) with the tokenizer you can select this strategy more precisely by providing a specific strategy to `truncation`.\n",
      "/home/19aag9/ENTER/lib/python3.11/site-packages/transformers/tokenization_utils_base.py:2418: FutureWarning: The `pad_to_max_length` argument is deprecated and will be removed in a future version, use `padding=True` or `padding='longest'` to pad to the longest sequence in the batch, or use `padding='max_length'` to pad to a max length. In this case, you can give a specific length with `max_length` (e.g. `max_length=45`) or leave max_length to None to pad to the maximal input size of the model (e.g. 512 for Bert).\n",
      "  warnings.warn(\n"
     ]
    }
   ],
   "source": [
    "tokenizer = BertTokenizer.from_pretrained('bert-base-uncased', do_lower_case=True)\n",
    "labels = df[emotion_labels].values\n",
    "texts = df.text.values\n",
    "\n",
    "input_ids = []\n",
    "attention_masks = []\n",
    "\n",
    "for text in texts:\n",
    "    encoded_data = tokenizer.encode_plus(\n",
    "        text,\n",
    "        add_special_tokens=True,\n",
    "        max_length=128,\n",
    "        pad_to_max_length=True,\n",
    "        return_attention_mask=True,\n",
    "        return_tensors='pt'\n",
    "    )\n",
    "    input_ids.append(encoded_data['input_ids'])\n",
    "    attention_masks.append(encoded_data['attention_mask'])\n",
    "\n",
    "input_ids = torch.cat(input_ids, dim=0)\n",
    "attention_masks = torch.cat(attention_masks, dim=0)\n",
    "labels = torch.tensor(labels)"
   ]
  },
  {
   "cell_type": "code",
   "execution_count": 11,
   "metadata": {},
   "outputs": [],
   "source": [
    "from torch.utils.data import DataLoader,SequentialSampler,RandomSampler,TensorDataset,random_split\n",
    "from transformers import get_linear_schedule_with_warmup"
   ]
  },
  {
   "cell_type": "code",
   "execution_count": 12,
   "metadata": {},
   "outputs": [
    {
     "name": "stdout",
     "output_type": "stream",
     "text": [
      "Training Size: 168980\n",
      "Validation Size: 21122\n",
      "Test Size: 21123\n"
     ]
    }
   ],
   "source": [
    "# Create train-validation-test split\n",
    "dataset = TensorDataset(input_ids, attention_masks, labels)\n",
    "total_size = len(dataset)\n",
    "\n",
    "train_size = int(0.8 * total_size)\n",
    "test_val_size = total_size - train_size\n",
    "val_size = int(0.5 * test_val_size)\n",
    "test_size = test_val_size - val_size\n",
    "\n",
    "train_dataset, test_val_dataset = random_split(dataset, [train_size, test_val_size])\n",
    "val_dataset, test_dataset = random_split(test_val_dataset, [val_size, test_size])\n",
    "\n",
    "batch_size = 32\n",
    "\n",
    "train_dataloader = DataLoader(train_dataset, sampler=RandomSampler(train_dataset), batch_size=batch_size)\n",
    "validation_dataloader = DataLoader(val_dataset, sampler=SequentialSampler(val_dataset), batch_size=batch_size)\n",
    "test_dataloader = DataLoader(test_dataset, sampler=SequentialSampler(test_dataset), batch_size=batch_size)\n",
    "\n",
    "print('Training Size:', train_size)\n",
    "print('Validation Size:', val_size)\n",
    "print('Test Size:', test_size)"
   ]
  },
  {
   "cell_type": "code",
   "execution_count": 13,
   "metadata": {},
   "outputs": [
    {
     "name": "stderr",
     "output_type": "stream",
     "text": [
      "Some weights of BertForSequenceClassification were not initialized from the model checkpoint at bert-base-uncased and are newly initialized: ['classifier.bias', 'classifier.weight']\n",
      "You should probably TRAIN this model on a down-stream task to be able to use it for predictions and inference.\n"
     ]
    }
   ],
   "source": [
    "model = BertForSequenceClassification.from_pretrained(\n",
    "    'bert-base-uncased',\n",
    "    num_labels=len(emotion_labels),\n",
    "    output_attentions=False,\n",
    "    output_hidden_states=False\n",
    ")"
   ]
  },
  {
   "cell_type": "code",
   "execution_count": 14,
   "metadata": {},
   "outputs": [],
   "source": [
    "import random\n",
    "\n",
    "seed_val = 17\n",
    "random.seed(seed_val)\n",
    "np.random.seed(seed_val)\n",
    "torch.manual_seed(seed_val)\n",
    "torch.cuda.manual_seed_all(seed_val)"
   ]
  },
  {
   "cell_type": "code",
   "execution_count": 15,
   "metadata": {},
   "outputs": [
    {
     "name": "stderr",
     "output_type": "stream",
     "text": [
      "/home/19aag9/ENTER/lib/python3.11/site-packages/transformers/optimization.py:411: FutureWarning: This implementation of AdamW is deprecated and will be removed in a future version. Use the PyTorch implementation torch.optim.AdamW instead, or set `no_deprecation_warning=True` to disable this warning\n",
      "  warnings.warn(\n"
     ]
    },
    {
     "data": {
      "text/plain": [
       "device(type='cuda')"
      ]
     },
     "execution_count": 15,
     "metadata": {},
     "output_type": "execute_result"
    }
   ],
   "source": [
    "optimizer = AdamW(model.parameters(), lr=2e-5, eps=1e-8)\n",
    "epochs = 4\n",
    "total_steps = len(train_dataloader) * epochs\n",
    "scheduler = get_linear_schedule_with_warmup(optimizer, num_warmup_steps=0, num_training_steps=total_steps)\n",
    "\n",
    "# Move model to GPU if available\n",
    "device = torch.device('cuda' if torch.cuda.is_available() else 'cpu')\n",
    "model.to(device)\n",
    "device"
   ]
  },
  {
   "cell_type": "code",
   "execution_count": 16,
   "metadata": {},
   "outputs": [],
   "source": [
    "from sklearn.metrics import accuracy_score, f1_score, precision_recall_fscore_support, confusion_matrix"
   ]
  },
  {
   "cell_type": "code",
   "execution_count": 17,
   "metadata": {},
   "outputs": [],
   "source": [
    "def evaluate(dataloader_val):\n",
    "    model.eval()\n",
    "    loss_val_total = 0\n",
    "\n",
    "    # Use BCEWithLogitsLoss for multi-label classification\n",
    "    loss_function = nn.BCEWithLogitsLoss()\n",
    "\n",
    "    predictions, true_vals = [], []\n",
    "\n",
    "    for batch in dataloader_val:\n",
    "        batch = tuple(b.to(device) for b in batch)\n",
    "        inputs = {'input_ids': batch[0], 'attention_mask': batch[1]}\n",
    "        labels = batch[2]  # Keep labels separate from inputs\n",
    "\n",
    "        with torch.no_grad():\n",
    "            outputs = model(**inputs)\n",
    "            logits = outputs.logits  # Extract logits from model outputs\n",
    "\n",
    "            # Compute loss manually\n",
    "            loss = loss_function(logits, labels.float())  # Convert labels to float\n",
    "            loss_val_total += loss.item()\n",
    "\n",
    "            logits = logits.detach().cpu().numpy()\n",
    "            label_ids = labels.cpu().numpy()\n",
    "            predictions.append(logits)\n",
    "            true_vals.append(label_ids)\n",
    "\n",
    "    loss_val_avg = loss_val_total / len(dataloader_val)\n",
    "\n",
    "    predictions = np.concatenate(predictions, axis=0)\n",
    "    true_vals = np.concatenate(true_vals, axis=0)\n",
    "\n",
    "    return loss_val_avg, predictions, true_vals"
   ]
  },
  {
   "cell_type": "code",
   "execution_count": 18,
   "metadata": {},
   "outputs": [
    {
     "data": {
      "application/vnd.jupyter.widget-view+json": {
       "model_id": "b794f0bd35bb4df0a3a04f5b271b25e8",
       "version_major": 2,
       "version_minor": 0
      },
      "text/plain": [
       "  0%|          | 0/4 [00:00<?, ?it/s]"
      ]
     },
     "metadata": {},
     "output_type": "display_data"
    },
    {
     "data": {
      "application/vnd.jupyter.widget-view+json": {
       "model_id": "2f2f3b8079d14d788600cab1d9bc3cce",
       "version_major": 2,
       "version_minor": 0
      },
      "text/plain": [
       "Epoch 1:   0%|          | 0/5281 [00:00<?, ?it/s]"
      ]
     },
     "metadata": {},
     "output_type": "display_data"
    },
    {
     "name": "stdout",
     "output_type": "stream",
     "text": [
      "\n",
      "Epoch 1\n",
      "Training loss: 0.1305350470816044\n",
      "Validation loss: 0.11453170939130249\n"
     ]
    },
    {
     "data": {
      "application/vnd.jupyter.widget-view+json": {
       "model_id": "1184f298faf8485ca3cc2d7b16fe11eb",
       "version_major": 2,
       "version_minor": 0
      },
      "text/plain": [
       "Epoch 2:   0%|          | 0/5281 [00:00<?, ?it/s]"
      ]
     },
     "metadata": {},
     "output_type": "display_data"
    },
    {
     "name": "stdout",
     "output_type": "stream",
     "text": [
      "\n",
      "Epoch 2\n",
      "Training loss: 0.10987930590965106\n",
      "Validation loss: 0.11166516477284381\n"
     ]
    },
    {
     "data": {
      "application/vnd.jupyter.widget-view+json": {
       "model_id": "6532761e45994438bfa7609631f4d61e",
       "version_major": 2,
       "version_minor": 0
      },
      "text/plain": [
       "Epoch 3:   0%|          | 0/5281 [00:00<?, ?it/s]"
      ]
     },
     "metadata": {},
     "output_type": "display_data"
    },
    {
     "name": "stdout",
     "output_type": "stream",
     "text": [
      "\n",
      "Epoch 3\n",
      "Training loss: 0.10416764837930068\n",
      "Validation loss: 0.11239536971124325\n"
     ]
    },
    {
     "data": {
      "application/vnd.jupyter.widget-view+json": {
       "model_id": "bf5c1b25acbb44f1a5e9fd81f676e356",
       "version_major": 2,
       "version_minor": 0
      },
      "text/plain": [
       "Epoch 4:   0%|          | 0/5281 [00:00<?, ?it/s]"
      ]
     },
     "metadata": {},
     "output_type": "display_data"
    },
    {
     "name": "stdout",
     "output_type": "stream",
     "text": [
      "\n",
      "Epoch 4\n",
      "Training loss: 0.09993614689647147\n",
      "Validation loss: 0.11273230646093026\n"
     ]
    }
   ],
   "source": [
    "from tqdm.notebook import tqdm\n",
    "# Loss function for multi-label classification\n",
    "loss_function = nn.BCEWithLogitsLoss()\n",
    "\n",
    "train_losses = []\n",
    "val_losses = []\n",
    "\n",
    "for epoch in tqdm(range(1, epochs+1)):\n",
    "    model.train()\n",
    "    loss_train_total = 0\n",
    "\n",
    "    progress_bar = tqdm(train_dataloader, desc='Epoch {:1d}'.format(epoch), leave=False, disable=False)\n",
    "    for batch in progress_bar:\n",
    "        model.zero_grad()\n",
    "\n",
    "        # Ensure batch data is on the same device as the model\n",
    "        input_ids = batch[0].to(device)\n",
    "        attention_mask = batch[1].to(device)\n",
    "        labels = batch[2].to(device)\n",
    "\n",
    "        # Forward pass\n",
    "        outputs = model(input_ids, attention_mask=attention_mask)\n",
    "        logits = outputs.logits\n",
    "\n",
    "        # Compute loss\n",
    "        loss = loss_function(logits, labels.float())  # Convert labels to float to match logits\n",
    "        loss_train_total += loss.item()\n",
    "\n",
    "        # Backward pass\n",
    "        loss.backward()\n",
    "        torch.nn.utils.clip_grad_norm_(model.parameters(), 1.0)\n",
    "        optimizer.step()\n",
    "        scheduler.step()\n",
    "\n",
    "        progress_bar.set_postfix({'training_loss': '{:.3f}'.format(loss.item()/len(batch))})\n",
    "         \n",
    "    tqdm.write(f'\\nEpoch {epoch}')\n",
    "    train_loss = loss_train_total/len(train_dataloader)   \n",
    "    train_losses.append(train_loss)         \n",
    "    tqdm.write(f'Training loss: {train_loss}')\n",
    "\n",
    "    val_loss, predictions, true_labels = evaluate(validation_dataloader)\n",
    "    val_losses.append(val_loss)\n",
    "    tqdm.write(f'Validation loss: {val_loss}')\n"
   ]
  },
  {
   "cell_type": "markdown",
   "metadata": {},
   "source": [
    "Check how well model is fitting"
   ]
  },
  {
   "cell_type": "code",
   "execution_count": 19,
   "metadata": {},
   "outputs": [
    {
     "data": {
      "image/png": "[encoded data removed]",
      "text/plain": [
       "<Figure size 1000x600 with 1 Axes>"
      ]
     },
     "metadata": {},
     "output_type": "display_data"
    }
   ],
   "source": [
    "plt.figure(figsize=(10, 6))\n",
    "plt.plot(train_losses, label='Training Loss')\n",
    "plt.plot(val_losses, label='Validation Loss')\n",
    "plt.xlabel('Epoch')\n",
    "plt.ylabel('Loss')\n",
    "plt.legend()\n",
    "plt.show()"
   ]
  },
  {
   "cell_type": "code",
   "execution_count": 20,
   "metadata": {},
   "outputs": [
    {
     "data": {
      "text/plain": [
       "('./goemotions/tokenizer_config.json',\n",
       " './goemotions/special_tokens_map.json',\n",
       " './goemotions/vocab.txt',\n",
       " './goemotions/added_tokens.json')"
      ]
     },
     "execution_count": 20,
     "metadata": {},
     "output_type": "execute_result"
    }
   ],
   "source": [
    "output_dir = './goemotions'  # Directory where the model and tokenizer will be saved\n",
    "\n",
    "import os\n",
    "if not os.path.exists(output_dir):\n",
    "    os.makedirs(output_dir)\n",
    "\n",
    "model_to_save = model.module if hasattr(model, 'module') else model\n",
    "model_to_save.save_pretrained(output_dir)\n",
    "tokenizer.save_pretrained(output_dir)"
   ]
  },
  {
   "cell_type": "code",
   "execution_count": 42,
   "metadata": {},
   "outputs": [
    {
     "name": "stderr",
     "output_type": "stream",
     "text": [
      "Truncation was not explicitly activated but `max_length` is provided a specific value, please use `truncation=True` to explicitly truncate examples to max length. Defaulting to 'longest_first' truncation strategy. If you encode pairs of sequences (GLUE-style) with the tokenizer you can select this strategy more precisely by providing a specific strategy to `truncation`.\n"
     ]
    },
    {
     "name": "stdout",
     "output_type": "stream",
     "text": [
      "Predicted Emotion Probabilities: [[4.5965526e-02 1.4553573e-02 2.1696070e-03 4.1323290e-03 5.4950062e-02\n",
      "  1.9039309e-02 1.6035694e-03 4.0181228e-03 8.4526297e-03 2.5884937e-03\n",
      "  2.6960056e-03 8.2990353e-04 7.7148620e-04 1.4752650e-01 5.7428214e-04\n",
      "  3.3926144e-02 7.5786543e-04 7.7385521e-01 1.8215923e-02 1.0029830e-03\n",
      "  2.2097776e-02 5.7736565e-03 8.3298795e-03 1.3725624e-02 1.2107533e-03\n",
      "  2.7229979e-03 4.6602674e-03 2.3692885e-02]]\n",
      "Predicted Emotions: ['joy']\n"
     ]
    }
   ],
   "source": [
    "# Reload model and tokenizer for inference\n",
    "model = BertForSequenceClassification.from_pretrained(output_dir)\n",
    "tokenizer = BertTokenizer.from_pretrained(output_dir)\n",
    "model.to(device)\n",
    "\n",
    "# Function to predict sentiment\n",
    "def predict_emotions(text):\n",
    "    encoded_dict = tokenizer.encode_plus(\n",
    "                        text, \n",
    "                        add_special_tokens=True,\n",
    "                        max_length=128,\n",
    "                        pad_to_max_length=True,\n",
    "                        return_attention_mask=True,\n",
    "                        return_tensors='pt',\n",
    "                   )\n",
    "    input_id = encoded_dict['input_ids'].to(device)\n",
    "    attention_mask = encoded_dict['attention_mask'].to(device)\n",
    "\n",
    "    with torch.no_grad():\n",
    "        outputs = model(input_id, token_type_ids=None, attention_mask=attention_mask)\n",
    "\n",
    "    logits = outputs[0]\n",
    "    predicted_prob = torch.sigmoid(logits).cpu().numpy()\n",
    "    return predicted_prob\n",
    "\n",
    "# Test with a sample text\n",
    "sample_text = \"I'm really happy to learn new things!\"\n",
    "predicted_prob = predict_emotions(sample_text)\n",
    "predicted_emotions_bin = (predicted_prob > 0.3).astype(int)\n",
    "predicted_emotions = [emotion_labels[i] for i, pred in enumerate(predicted_emotions_bin[0]) if pred == 1]\n",
    "print(\"Predicted Emotion Probabilities:\", predicted_prob)\n",
    "print(\"Predicted Emotions:\", predicted_emotions)\n"
   ]
  },
  {
   "cell_type": "markdown",
   "metadata": {},
   "source": []
  },
  {
   "cell_type": "code",
   "execution_count": 22,
   "metadata": {},
   "outputs": [],
   "source": [
    "# Evaluate on Test Set\n",
    "test_loss, predictions, true_labels = evaluate(test_dataloader)"
   ]
  },
  {
   "cell_type": "code",
   "execution_count": 24,
   "metadata": {},
   "outputs": [
    {
     "name": "stdout",
     "output_type": "stream",
     "text": [
      "\n",
      "Classification Report:\n",
      "\n",
      "                precision    recall  f1-score   support\n",
      "\n",
      "    admiration       0.59      0.52      0.55      1720\n",
      "     amusement       0.60      0.66      0.63       931\n",
      "         anger       0.48      0.20      0.28       832\n",
      "     annoyance       0.33      0.02      0.04      1312\n",
      "      approval       0.46      0.11      0.17      1720\n",
      "        caring       0.42      0.20      0.27       582\n",
      "     confusion       0.57      0.16      0.26       765\n",
      "     curiosity       0.48      0.19      0.28       996\n",
      "        desire       0.53      0.22      0.31       387\n",
      "disappointment       0.51      0.05      0.10       860\n",
      "   disapproval       0.41      0.13      0.19      1135\n",
      "       disgust       0.52      0.13      0.21       532\n",
      " embarrassment       0.53      0.07      0.13       257\n",
      "    excitement       0.53      0.12      0.20       544\n",
      "          fear       0.57      0.35      0.44       337\n",
      "     gratitude       0.87      0.78      0.82      1117\n",
      "         grief       0.00      0.00      0.00        65\n",
      "           joy       0.52      0.23      0.32       761\n",
      "          love       0.62      0.65      0.64       837\n",
      "   nervousness       0.50      0.01      0.01       153\n",
      "      optimism       0.59      0.27      0.37       911\n",
      "         pride       0.67      0.05      0.09       126\n",
      "   realization       0.56      0.05      0.09       884\n",
      "        relief       0.00      0.00      0.00       122\n",
      "       remorse       0.49      0.24      0.32       262\n",
      "       sadness       0.49      0.28      0.36       643\n",
      "      surprise       0.51      0.29      0.37       529\n",
      "       neutral       0.60      0.32      0.42      5624\n",
      "\n",
      "     micro avg       0.58      0.28      0.38     24944\n",
      "     macro avg       0.50      0.22      0.28     24944\n",
      "  weighted avg       0.54      0.28      0.34     24944\n",
      "   samples avg       0.32      0.29      0.29     24944\n",
      "\n"
     ]
    },
    {
     "name": "stderr",
     "output_type": "stream",
     "text": [
      "/home/19aag9/ENTER/lib/python3.11/site-packages/sklearn/metrics/_classification.py:1469: UndefinedMetricWarning: Precision and F-score are ill-defined and being set to 0.0 in labels with no predicted samples. Use `zero_division` parameter to control this behavior.\n",
      "  _warn_prf(average, modifier, msg_start, len(result))\n",
      "/home/19aag9/ENTER/lib/python3.11/site-packages/sklearn/metrics/_classification.py:1469: UndefinedMetricWarning: Precision and F-score are ill-defined and being set to 0.0 in samples with no predicted labels. Use `zero_division` parameter to control this behavior.\n",
      "  _warn_prf(average, modifier, msg_start, len(result))\n",
      "/home/19aag9/ENTER/lib/python3.11/site-packages/sklearn/metrics/_classification.py:1469: UndefinedMetricWarning: Recall and F-score are ill-defined and being set to 0.0 in samples with no true labels. Use `zero_division` parameter to control this behavior.\n",
      "  _warn_prf(average, modifier, msg_start, len(result))\n"
     ]
    }
   ],
   "source": [
    "from sklearn.metrics import (hamming_loss, accuracy_score, jaccard_score,\n",
    "                             precision_score, recall_score, f1_score,\n",
    "                             roc_auc_score, average_precision_score, \n",
    "                             classification_report)\n",
    "\n",
    "# Assuming 'predictions' and 'true_labels' are your model outputs and true labels respectively\n",
    "# Convert logits to probabilities\n",
    "probabilities = torch.sigmoid(torch.tensor(predictions)).numpy()\n",
    "\n",
    "# Threshold to convert probabilities to binary predictions\n",
    "threshold = 0.5\n",
    "binary_predictions = (probabilities > threshold).astype(int)\n",
    "print(\"\\nClassification Report:\\n\")\n",
    "print(classification_report(true_labels, binary_predictions, target_names=emotion_labels))\n"
   ]
  },
  {
   "cell_type": "code",
   "execution_count": 26,
   "metadata": {},
   "outputs": [
    {
     "name": "stdout",
     "output_type": "stream",
     "text": [
      "Hamming Loss: 0.03877628313077823\n",
      "Exact Match Ratio: 0.2547933532168726\n",
      "Jaccard Similarity: 0.2817849196204543\n",
      "Micro-Averaged Precision: 0.5847100472016183\n",
      "Micro-Averaged Recall: 0.27810295060936496\n",
      "Micro-Averaged F1-Score: 0.37692892849380566\n",
      "Macro-Averaged Precision: 0.49811187354704684\n",
      "Macro-Averaged Recall: 0.22485267959054214\n",
      "Macro-Averaged F1-Score: 0.28025022937005506\n"
     ]
    },
    {
     "name": "stderr",
     "output_type": "stream",
     "text": [
      "/home/19aag9/ENTER/lib/python3.11/site-packages/sklearn/metrics/_classification.py:1469: UndefinedMetricWarning: Jaccard is ill-defined and being set to 0.0 in samples with no true or predicted labels. Use `zero_division` parameter to control this behavior.\n",
      "  _warn_prf(average, modifier, msg_start, len(result))\n",
      "/home/19aag9/ENTER/lib/python3.11/site-packages/sklearn/metrics/_classification.py:1469: UndefinedMetricWarning: Precision is ill-defined and being set to 0.0 in labels with no predicted samples. Use `zero_division` parameter to control this behavior.\n",
      "  _warn_prf(average, modifier, msg_start, len(result))\n"
     ]
    }
   ],
   "source": [
    "\n",
    "# Hamming Loss\n",
    "hammingLoss = hamming_loss(true_labels, binary_predictions)\n",
    "print(\"Hamming Loss:\", hammingLoss)\n",
    "\n",
    "# Exact Match Ratio (Subset Accuracy)\n",
    "exactMatchRatio = accuracy_score(true_labels, binary_predictions)\n",
    "print(\"Exact Match Ratio:\", exactMatchRatio)\n",
    "\n",
    "# Jaccard Similarity\n",
    "jaccardSimilarity = jaccard_score(true_labels, binary_predictions, average='samples')\n",
    "print(\"Jaccard Similarity:\", jaccardSimilarity)\n",
    "\n",
    "# Micro Averaged Precision, Recall, F1-Score\n",
    "precision_micro = precision_score(true_labels, binary_predictions, average='micro')\n",
    "recall_micro = recall_score(true_labels, binary_predictions, average='micro')\n",
    "f1_micro = f1_score(true_labels, binary_predictions, average='micro')\n",
    "print(\"Micro-Averaged Precision:\", precision_micro)\n",
    "print(\"Micro-Averaged Recall:\", recall_micro)\n",
    "print(\"Micro-Averaged F1-Score:\", f1_micro)\n",
    "\n",
    "# Macro Averaged Precision, Recall, F1-Score\n",
    "precision_macro = precision_score(true_labels, binary_predictions, average='macro')\n",
    "recall_macro = recall_score(true_labels, binary_predictions, average='macro')\n",
    "f1_macro = f1_score(true_labels, binary_predictions, average='macro')\n",
    "print(\"Macro-Averaged Precision:\", precision_macro)\n",
    "print(\"Macro-Averaged Recall:\", recall_macro)\n",
    "print(\"Macro-Averaged F1-Score:\", f1_macro)\n"
   ]
  },
  {
   "cell_type": "code",
   "execution_count": 40,
   "metadata": {},
   "outputs": [
    {
     "name": "stdout",
     "output_type": "stream",
     "text": [
      "ROC-AUC for admiration: 0.9127, PR-AUC for admiration: 0.5620\n",
      "ROC-AUC for amusement: 0.9437, PR-AUC for amusement: 0.5820\n",
      "ROC-AUC for anger: 0.8827, PR-AUC for anger: 0.3192\n",
      "ROC-AUC for annoyance: 0.8062, PR-AUC for annoyance: 0.2050\n",
      "ROC-AUC for approval: 0.7639, PR-AUC for approval: 0.2708\n",
      "ROC-AUC for caring: 0.8876, PR-AUC for caring: 0.2780\n",
      "ROC-AUC for confusion: 0.8936, PR-AUC for confusion: 0.3347\n",
      "ROC-AUC for curiosity: 0.9235, PR-AUC for curiosity: 0.4006\n",
      "ROC-AUC for desire: 0.8807, PR-AUC for desire: 0.2831\n",
      "ROC-AUC for disappointment: 0.8257, PR-AUC for disappointment: 0.2097\n",
      "ROC-AUC for disapproval: 0.8416, PR-AUC for disapproval: 0.2598\n",
      "ROC-AUC for disgust: 0.8815, PR-AUC for disgust: 0.2718\n",
      "ROC-AUC for embarrassment: 0.8473, PR-AUC for embarrassment: 0.1944\n",
      "ROC-AUC for excitement: 0.8633, PR-AUC for excitement: 0.2516\n",
      "ROC-AUC for fear: 0.9289, PR-AUC for fear: 0.4542\n",
      "ROC-AUC for gratitude: 0.9720, PR-AUC for gratitude: 0.8525\n",
      "ROC-AUC for grief: 0.9324, PR-AUC for grief: 0.0636\n",
      "ROC-AUC for joy: 0.8926, PR-AUC for joy: 0.3554\n",
      "ROC-AUC for love: 0.9655, PR-AUC for love: 0.6547\n",
      "ROC-AUC for nervousness: 0.8552, PR-AUC for nervousness: 0.1505\n",
      "ROC-AUC for optimism: 0.8603, PR-AUC for optimism: 0.3691\n",
      "ROC-AUC for pride: 0.8055, PR-AUC for pride: 0.1186\n",
      "ROC-AUC for realization: 0.7506, PR-AUC for realization: 0.1647\n",
      "ROC-AUC for relief: 0.8865, PR-AUC for relief: 0.1397\n",
      "ROC-AUC for remorse: 0.9329, PR-AUC for remorse: 0.3943\n",
      "ROC-AUC for sadness: 0.9122, PR-AUC for sadness: 0.3679\n",
      "ROC-AUC for surprise: 0.8969, PR-AUC for surprise: 0.3904\n",
      "ROC-AUC for neutral: 0.7678, PR-AUC for neutral: 0.5302\n"
     ]
    }
   ],
   "source": [
    "# ROC-AUC and PR-AUC for each label\n",
    "for i, label in enumerate(emotion_labels):\n",
    "    roc_auc = roc_auc_score(true_labels[:, i], probabilities[:, i])\n",
    "    pr_auc = average_precision_score(true_labels[:, i], probabilities[:, i])\n",
    "    print(f\"ROC-AUC for {label}: {roc_auc:.4f}, PR-AUC for {label}: {pr_auc:.4f}\")\n",
    "\n"
   ]
  },
  {
   "cell_type": "code",
   "execution_count": 29,
   "metadata": {},
   "outputs": [
    {
     "name": "stdout",
     "output_type": "stream",
     "text": [
      "Average Precision: 0.3367354081014352\n"
     ]
    }
   ],
   "source": [
    "# Average Precision\n",
    "averagePrecision = average_precision_score(true_labels, probabilities, average='macro')\n",
    "print(\"Average Precision:\", averagePrecision)"
   ]
  }
 ],
 "metadata": {
  "kernelspec": {
   "display_name": "base",
   "language": "python",
   "name": "python3"
  },
  "language_info": {
   "codemirror_mode": {
    "name": "ipython",
    "version": 3
   },
   "file_extension": ".py",
   "mimetype": "text/x-python",
   "name": "python",
   "nbconvert_exporter": "python",
   "pygments_lexer": "ipython3",
   "version": "3.11.5"
  }
 },
 "nbformat": 4,
 "nbformat_minor": 2
}
